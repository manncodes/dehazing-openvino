{
 "cells": [
  {
   "cell_type": "code",
   "execution_count": 2,
   "source": [
    "import time\r\n",
    "import os, argparse\r\n",
    "import numpy as np\r\n",
    "from typing import List\r\n",
    "import cv2\r\n",
    "import matplotlib\r\n",
    "import matplotlib.pyplot as plt\r\n",
    "from matplotlib.lines import Line2D\r\n",
    "from openvino.inference_engine import IECore\r\n",
    "from IPython.display import HTML, FileLink, display\r\n",
    "\r\n",
    "abs = os.getcwd() + \"/\""
   ],
   "outputs": [
    {
     "output_type": "error",
     "ename": "ModuleNotFoundError",
     "evalue": "No module named 'openvino'",
     "traceback": [
      "\u001b[0;31m---------------------------------------------------------------------------\u001b[0m",
      "\u001b[0;31mModuleNotFoundError\u001b[0m                       Traceback (most recent call last)",
      "\u001b[0;32m~/tmp/ipykernel_2918378/314346248.py\u001b[0m in \u001b[0;36m<module>\u001b[0;34m\u001b[0m\n\u001b[1;32m      3\u001b[0m \u001b[0;32mimport\u001b[0m \u001b[0mnumpy\u001b[0m \u001b[0;32mas\u001b[0m \u001b[0mnp\u001b[0m\u001b[0;34m\u001b[0m\u001b[0;34m\u001b[0m\u001b[0m\n\u001b[1;32m      4\u001b[0m \u001b[0;32mimport\u001b[0m \u001b[0mmatplotlib\u001b[0m\u001b[0;34m.\u001b[0m\u001b[0mpyplot\u001b[0m \u001b[0;32mas\u001b[0m \u001b[0mplt\u001b[0m\u001b[0;34m\u001b[0m\u001b[0;34m\u001b[0m\u001b[0m\n\u001b[0;32m----> 5\u001b[0;31m \u001b[0;32mfrom\u001b[0m \u001b[0mopenvino\u001b[0m\u001b[0;34m.\u001b[0m\u001b[0minference_engine\u001b[0m \u001b[0;32mimport\u001b[0m \u001b[0mIECore\u001b[0m\u001b[0;34m\u001b[0m\u001b[0;34m\u001b[0m\u001b[0m\n\u001b[0m\u001b[1;32m      6\u001b[0m \u001b[0;32mfrom\u001b[0m \u001b[0mIPython\u001b[0m\u001b[0;34m.\u001b[0m\u001b[0mdisplay\u001b[0m \u001b[0;32mimport\u001b[0m \u001b[0mHTML\u001b[0m\u001b[0;34m,\u001b[0m \u001b[0mFileLink\u001b[0m\u001b[0;34m,\u001b[0m \u001b[0mdisplay\u001b[0m\u001b[0;34m\u001b[0m\u001b[0;34m\u001b[0m\u001b[0m\n",
      "\u001b[0;31mModuleNotFoundError\u001b[0m: No module named 'openvino'"
     ]
    }
   ],
   "metadata": {}
  },
  {
   "cell_type": "code",
   "execution_count": null,
   "source": [
    "onnx_path = \"trained_models/onnx/its_train_ffa_3_9.pth\"\r\n",
    "ir_path = \"trained_models/ir\"\r\n",
    "output_dir = abs + 'test_output/'\r\n",
    "img_dir = abs + 'test/'\r\n",
    "print(\"pred_dir:\", output_dir)\r\n",
    "if not os.path.exists(output_dir):\r\n",
    "    os.mkdir(output_dir)"
   ],
   "outputs": [],
   "metadata": {}
  },
  {
   "cell_type": "code",
   "execution_count": null,
   "source": [
    "# Load IR network to Inference Engine\r\n",
    "ie = IECore()\r\n",
    "net_ir = ie.read_network(model=ir_path)\r\n",
    "exec_net_ir = ie.load_network(network=net_ir, device_name=\"CPU\")\r\n",
    "\r\n",
    "# Get names of input and output layers\r\n",
    "input_layer_ir = next(iter(exec_net_ir.input_info))\r\n",
    "output_layer_ir = next(iter(exec_net_ir.outputs))\r\n",
    "\r\n",
    "# Run the Inference on the Input image...\r\n",
    "for img in os.listdir(img_dir):\r\n",
    "    start_time = time.time()\r\n",
    "    img = cv2.cvtColor(\r\n",
    "    cv2.imread(str(img_dir + img)),\r\n",
    "    cv2.COLOR_BGR2RGB,\r\n",
    "    )\r\n",
    "    res_ir = exec_net_ir.infer(inputs={input_layer_ir: img})\r\n",
    "    res_ir = res_ir[output_layer_ir]\r\n",
    "    end_time = time.perf_counter()\r\n",
    "    print(\r\n",
    "        f\"Inference finished. Inference time: {end_time-start_time:.3f} seconds, \"\r\n",
    "        f\"FPS: {1/(end_time-start_time):.2f}.\"\r\n",
    "    )\r\n",
    "    result_img = np.rint(\r\n",
    "        cv2.resize(np.squeeze(res_ir), (img.shape[1], img.shape[0]))\r\n",
    "    ).astype(np.uint8)\r\n",
    "    # Save the output image\r\n",
    "    cv2.imwrite(str(output_dir+img), cv2.cvtColor(result_img, cv2.COLOR_RGB2BGR))"
   ],
   "outputs": [],
   "metadata": {}
  },
  {
   "cell_type": "code",
   "execution_count": null,
   "source": [],
   "outputs": [],
   "metadata": {}
  }
 ],
 "metadata": {
  "kernelspec": {
   "display_name": "Python 3.7 (Intel® oneAPI)",
   "language": "python",
   "name": "c009-intel_distribution_of_python_3_oneapi-beta05-python"
  },
  "language_info": {
   "codemirror_mode": {
    "name": "ipython",
    "version": 3
   },
   "file_extension": ".py",
   "mimetype": "text/x-python",
   "name": "python",
   "nbconvert_exporter": "python",
   "pygments_lexer": "ipython3",
   "version": "3.7.10"
  }
 },
 "nbformat": 4,
 "nbformat_minor": 5
}
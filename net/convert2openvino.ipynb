{
 "cells": [
  {
   "cell_type": "code",
   "execution_count": 4,
   "source": [
    "# converting torch model to onnx\r\n",
    "import os\r\n",
    "import torch\r\n",
    "import torch.nn as nn\r\n",
    "from models import *\r\n",
    "from IPython.display import Markdown, display\r\n",
    "\r\n",
    "device = \"cuda\" if torch.cuda.is_available() else \"cpu\"\r\n"
   ],
   "outputs": [],
   "metadata": {}
  },
  {
   "cell_type": "code",
   "execution_count": 5,
   "source": [
    "# Parameters\r\n",
    "ONNX_SAVE_DIR_PATH = \"trained_models/onnx/\"\r\n",
    "MODEL_PATH = \"trained_models/its_train_ffa_3_9.pk\"\r\n",
    "IMAGE_HEIGHT = 240 #crop size\r\n",
    "IMAGE_WIDTH = 240 #crop size\r\n",
    "IR_MODEL_DIR = \"trained_models/IR/\""
   ],
   "outputs": [],
   "metadata": {}
  },
  {
   "cell_type": "code",
   "execution_count": 6,
   "source": [
    "def make_model(MODEL_PATH):\r\n",
    "    _MODEL_NAME = MODEL_PATH.split('/')[-1]\r\n",
    "\r\n",
    "    _MODEL_DATASET = _MODEL_NAME.split('_')[0]\r\n",
    "    _MODEL_MODE = _MODEL_NAME.split('_')[1]\r\n",
    "    _MODEL_ARCH = _MODEL_NAME.split('_')[2]\r\n",
    "    _MODEL_NO_GROUPS = _MODEL_NAME.split('_')[3]\r\n",
    "    _MODEL_NO_BLOCKS = _MODEL_NAME.split('_')[4]\r\n",
    "\r\n",
    "    if _MODEL_ARCH == 'ffa':\r\n",
    "        return FFA(gps = _MODEL_NO_GROUPS,blocks = _MODEL_NO_BLOCKS)\r\n",
    "    print('models other than FFA not yet implemented')\r\n",
    "    return None"
   ],
   "outputs": [],
   "metadata": {}
  },
  {
   "cell_type": "code",
   "execution_count": 7,
   "source": [
    "MODEL_PATH = \"trained_models/its_train_ffa_3_9.pk\"\r\n",
    "# dehaze_net = make_model(MODEL_PATH) # dynamic initialization #!TODO\r\n",
    "dehaze_net = FFA(gps =3,blocks=9) # Manually initialize FFA net\r\n",
    "dehaze_net = dehaze_net.to(device)\r\n",
    "checkpoint = torch.load(MODEL_PATH)\r\n",
    "dehaze_net.load_state_dict(checkpoint[\"model\"])"
   ],
   "outputs": [
    {
     "output_type": "execute_result",
     "data": {
      "text/plain": [
       "<All keys matched successfully>"
      ]
     },
     "metadata": {},
     "execution_count": 7
    }
   ],
   "metadata": {}
  },
  {
   "cell_type": "code",
   "execution_count": 8,
   "source": [
    "dummy_input = torch.randn(1, 3, 240, 240).to(device)\r\n",
    "model_name = MODEL_PATH.split('/')[-1].split('.')[0]\r\n",
    "onnx_model_save_path = ONNX_SAVE_DIR_PATH+ '/' + model_name + '.pth'\r\n",
    "\r\n",
    "# torch to onnx\r\n",
    "torch.onnx.export(\r\n",
    "        dehaze_net,\r\n",
    "        dummy_input,\r\n",
    "        onnx_model_save_path,\r\n",
    "        opset_version=11,\r\n",
    "        do_constant_folding=False,\r\n",
    ")"
   ],
   "outputs": [],
   "metadata": {}
  },
  {
   "cell_type": "markdown",
   "source": [
    "## Convert ONNX model to OpenVINO IR Format"
   ],
   "metadata": {}
  },
  {
   "cell_type": "code",
   "execution_count": 9,
   "source": [
    "# Construct the command for Model Optimizer\r\n",
    "mo_command = f\"\"\"mo\r\n",
    "                 --input_model \"{onnx_model_save_path}\"\r\n",
    "                 --input_shape \"[1,3, {IMAGE_HEIGHT}, {IMAGE_WIDTH}]\"\r\n",
    "                 --data_type FP16\r\n",
    "                 --output_dir \"{IR_MODEL_DIR}\"\r\n",
    "                 \"\"\"\r\n",
    "mo_command = \" \".join(mo_command.split())\r\n",
    "print(\"Model Optimizer command to convert the ONNX model to OpenVINO:\")\r\n",
    "display(Markdown(f\"`{mo_command}`\"))"
   ],
   "outputs": [
    {
     "output_type": "stream",
     "name": "stdout",
     "text": [
      "Model Optimizer command to convert the ONNX model to OpenVINO:\n"
     ]
    },
    {
     "output_type": "display_data",
     "data": {
      "text/markdown": [
       "`mo --input_model \"trained_models/onnx//its_train_ffa_3_9.pth\" --input_shape \"[1,3, 240, 240]\" --data_type FP16 --output_dir \"trained_models/IR/\"`"
      ],
      "text/plain": [
       "<IPython.core.display.Markdown object>"
      ]
     },
     "metadata": {}
    }
   ],
   "metadata": {}
  },
  {
   "cell_type": "code",
   "execution_count": 10,
   "source": [
    "print(\"Exporting ONNX model to IR... This may take a few minutes.\")\r\n",
    "mo_result = %sx $mo_command\r\n",
    "print(\"\\n\".join(mo_result))"
   ],
   "outputs": [
    {
     "output_type": "stream",
     "name": "stdout",
     "text": [
      "Exporting ONNX model to IR... This may take a few minutes.\n",
      "'mo' is not recognized as an internal or external command,\n",
      "operable program or batch file.\n"
     ]
    }
   ],
   "metadata": {}
  },
  {
   "cell_type": "code",
   "execution_count": 3,
   "source": [
    "\r\n",
    "from openvino.inference_engine import IECore"
   ],
   "outputs": [
    {
     "output_type": "error",
     "ename": "ImportError",
     "evalue": "DLL load failed while importing ie_api: The specified module could not be found.",
     "traceback": [
      "\u001b[1;31m---------------------------------------------------------------------------\u001b[0m",
      "\u001b[1;31mImportError\u001b[0m                               Traceback (most recent call last)",
      "\u001b[1;32m<ipython-input-3-82b2d7f92c72>\u001b[0m in \u001b[0;36m<module>\u001b[1;34m\u001b[0m\n\u001b[1;32m----> 1\u001b[1;33m \u001b[1;32mfrom\u001b[0m \u001b[0mopenvino\u001b[0m\u001b[1;33m.\u001b[0m\u001b[0minference_engine\u001b[0m \u001b[1;32mimport\u001b[0m \u001b[0mIECore\u001b[0m\u001b[1;33m\u001b[0m\u001b[1;33m\u001b[0m\u001b[0m\n\u001b[0m",
      "\u001b[1;32mC:\\anaconda3\\lib\\site-packages\\openvino\\inference_engine\\__init__.py\u001b[0m in \u001b[0;36m<module>\u001b[1;34m\u001b[0m\n\u001b[0;32m     32\u001b[0m         \u001b[0mos\u001b[0m\u001b[1;33m.\u001b[0m\u001b[0menviron\u001b[0m\u001b[1;33m[\u001b[0m\u001b[1;34m\"PATH\"\u001b[0m\u001b[1;33m]\u001b[0m \u001b[1;33m=\u001b[0m \u001b[0mos\u001b[0m\u001b[1;33m.\u001b[0m\u001b[0mpath\u001b[0m\u001b[1;33m.\u001b[0m\u001b[0mabspath\u001b[0m\u001b[1;33m(\u001b[0m\u001b[0mopenvino_dlls\u001b[0m\u001b[1;33m)\u001b[0m \u001b[1;33m+\u001b[0m \u001b[1;34m\";\"\u001b[0m \u001b[1;33m+\u001b[0m \u001b[0mos\u001b[0m\u001b[1;33m.\u001b[0m\u001b[0menviron\u001b[0m\u001b[1;33m[\u001b[0m\u001b[1;34m\"PATH\"\u001b[0m\u001b[1;33m]\u001b[0m\u001b[1;33m\u001b[0m\u001b[1;33m\u001b[0m\u001b[0m\n\u001b[0;32m     33\u001b[0m \u001b[1;33m\u001b[0m\u001b[0m\n\u001b[1;32m---> 34\u001b[1;33m \u001b[1;32mfrom\u001b[0m \u001b[1;33m.\u001b[0m\u001b[0mie_api\u001b[0m \u001b[1;32mimport\u001b[0m \u001b[1;33m*\u001b[0m\u001b[1;33m\u001b[0m\u001b[1;33m\u001b[0m\u001b[0m\n\u001b[0m\u001b[0;32m     35\u001b[0m \u001b[0m__all__\u001b[0m \u001b[1;33m=\u001b[0m \u001b[1;33m[\u001b[0m\u001b[1;34m'IENetwork'\u001b[0m\u001b[1;33m,\u001b[0m \u001b[1;34m\"TensorDesc\"\u001b[0m\u001b[1;33m,\u001b[0m \u001b[1;34m\"IECore\"\u001b[0m\u001b[1;33m,\u001b[0m \u001b[1;34m\"Blob\"\u001b[0m\u001b[1;33m,\u001b[0m \u001b[1;34m\"PreProcessInfo\"\u001b[0m\u001b[1;33m,\u001b[0m \u001b[1;34m\"get_version\"\u001b[0m\u001b[1;33m]\u001b[0m\u001b[1;33m\u001b[0m\u001b[1;33m\u001b[0m\u001b[0m\n\u001b[0;32m     36\u001b[0m \u001b[0m__version__\u001b[0m \u001b[1;33m=\u001b[0m \u001b[0mget_version\u001b[0m\u001b[1;33m(\u001b[0m\u001b[1;33m)\u001b[0m\u001b[1;33m\u001b[0m\u001b[1;33m\u001b[0m\u001b[0m\n",
      "\u001b[1;31mImportError\u001b[0m: DLL load failed while importing ie_api: The specified module could not be found."
     ]
    }
   ],
   "metadata": {}
  }
 ],
 "metadata": {
  "orig_nbformat": 4,
  "language_info": {
   "name": "python",
   "version": "3.8.3",
   "mimetype": "text/x-python",
   "codemirror_mode": {
    "name": "ipython",
    "version": 3
   },
   "pygments_lexer": "ipython3",
   "nbconvert_exporter": "python",
   "file_extension": ".py"
  },
  "kernelspec": {
   "name": "python3",
   "display_name": "Python 3.8.3 64-bit ('base': conda)"
  },
  "interpreter": {
   "hash": "cef9e06bb236b2a8629b07e87a04b187b952a0f661eff5533360a155783f0c33"
  }
 },
 "nbformat": 4,
 "nbformat_minor": 2
}
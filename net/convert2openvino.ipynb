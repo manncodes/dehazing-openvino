{
 "cells": [
  {
   "cell_type": "code",
   "execution_count": 4,
   "metadata": {},
   "outputs": [],
   "source": [
    "# converting torch model to onnx\n",
    "import os\n",
    "import torch\n",
    "import torch.nn as nn\n",
    "from models import *\n",
    "from IPython.display import Markdown, display\n",
    "\n",
    "device = \"cuda\" if torch.cuda.is_available() else \"cpu\"\n"
   ]
  },
  {
   "cell_type": "code",
   "execution_count": 5,
   "metadata": {},
   "outputs": [],
   "source": [
    "# Parameters\n",
    "ONNX_SAVE_DIR_PATH = \"trained_models/onnx/\"\n",
    "MODEL_PATH = \"trained_models/its_train_ffa_3_9.pk\"\n",
    "IMAGE_HEIGHT = 240 #crop size\n",
    "IMAGE_WIDTH = 240 #crop size\n",
    "IR_MODEL_DIR = \"trained_models/IR/\""
   ]
  },
  {
   "cell_type": "code",
   "execution_count": 6,
   "metadata": {},
   "outputs": [],
   "source": [
    "def make_model(MODEL_PATH):\n",
    "    _MODEL_NAME = MODEL_PATH.split('/')[-1]\n",
    "\n",
    "    _MODEL_DATASET = _MODEL_NAME.split('_')[0]\n",
    "    _MODEL_MODE = _MODEL_NAME.split('_')[1]\n",
    "    _MODEL_ARCH = _MODEL_NAME.split('_')[2]\n",
    "    _MODEL_NO_GROUPS = _MODEL_NAME.split('_')[3]\n",
    "    _MODEL_NO_BLOCKS = _MODEL_NAME.split('_')[4]\n",
    "\n",
    "    if _MODEL_ARCH == 'ffa':\n",
    "        return FFA(gps = _MODEL_NO_GROUPS,blocks = _MODEL_NO_BLOCKS)\n",
    "    print('models other than FFA not yet implemented')\n",
    "    return None"
   ]
  },
  {
   "cell_type": "code",
   "execution_count": 7,
   "metadata": {},
   "outputs": [
    {
     "data": {
      "text/plain": [
       "<All keys matched successfully>"
      ]
     },
     "execution_count": 7,
     "metadata": {},
     "output_type": "execute_result"
    }
   ],
   "source": [
    "MODEL_PATH = \"trained_models/its_train_ffa_3_9.pk\"\n",
    "# dehaze_net = make_model(MODEL_PATH) # dynamic initialization #!TODO\n",
    "dehaze_net = FFA(gps =3,blocks=9) # Manually initialize FFA net\n",
    "dehaze_net = dehaze_net.to(device)\n",
    "checkpoint = torch.load(MODEL_PATH)\n",
    "dehaze_net.load_state_dict(checkpoint[\"model\"])"
   ]
  },
  {
   "cell_type": "code",
   "execution_count": 8,
   "metadata": {},
   "outputs": [],
   "source": [
    "dummy_input = torch.randn(1, 3, 240, 240).to(device)\n",
    "model_name = MODEL_PATH.split('/')[-1].split('.')[0]\n",
    "onnx_model_save_path = ONNX_SAVE_DIR_PATH+ '/' + model_name + '.onnx'\n",
    "\n",
    "# torch to onnx\n",
    "torch.onnx.export(\n",
    "        dehaze_net,\n",
    "        dummy_input,\n",
    "        onnx_model_save_path,\n",
    "        opset_version=11,\n",
    "        do_constant_folding=False,\n",
    ")"
   ]
  },
  {
   "cell_type": "markdown",
   "metadata": {},
   "source": [
    "## Convert ONNX model to OpenVINO IR Format"
   ]
  },
  {
   "cell_type": "code",
   "execution_count": 9,
   "metadata": {},
   "outputs": [
    {
     "name": "stdout",
     "output_type": "stream",
     "text": [
      "Model Optimizer command to convert the ONNX model to OpenVINO:\n"
     ]
    },
    {
     "data": {
      "text/markdown": [
       "`mo --input_model \"trained_models/onnx//its_train_ffa_3_9.pth\" --input_shape \"[1,3, 240, 240]\" --data_type FP16 --output_dir \"trained_models/IR/\"`"
      ],
      "text/plain": [
       "<IPython.core.display.Markdown object>"
      ]
     },
     "metadata": {},
     "output_type": "display_data"
    }
   ],
   "source": [
    "# Construct the command for Model Optimizer\n",
    "mo_command = f\"\"\"mo\n",
    "                 --input_model \"{onnx_model_save_path}\"\n",
    "                 --input_shape \"[1,3, {IMAGE_HEIGHT}, {IMAGE_WIDTH}]\"\n",
    "                 --data_type FP16\n",
    "                 --output_dir \"{IR_MODEL_DIR}\"\n",
    "                 \"\"\"\n",
    "mo_command = \" \".join(mo_command.split())\n",
    "print(\"Model Optimizer command to convert the ONNX model to OpenVINO:\")\n",
    "display(Markdown(f\"`{mo_command}`\"))"
   ]
  },
  {
   "cell_type": "code",
   "execution_count": 10,
   "metadata": {},
   "outputs": [
    {
     "name": "stdout",
     "output_type": "stream",
     "text": [
      "Exporting ONNX model to IR... This may take a few minutes.\n",
      "'mo' is not recognized as an internal or external command,\n",
      "operable program or batch file.\n"
     ]
    }
   ],
   "source": [
    "print(\"Exporting ONNX model to IR... This may take a few minutes.\")\n",
    "mo_result = %sx $mo_command\n",
    "print(\"\\n\".join(mo_result))"
   ]
  },
  {
   "cell_type": "code",
   "execution_count": null,
   "metadata": {},
   "outputs": [],
   "source": [
    "import sys\n",
    "import time\n",
    "import os\n",
    "from pathlib import Path\n",
    "\n",
    "import cv2\n",
    "import matplotlib.pyplot as plt\n",
    "import numpy as np\n",
    "from IPython.display import HTML, display\n",
    "from openvino.inference_engine import IECore"
   ]
  },
  {
   "cell_type": "code",
   "execution_count": null,
   "metadata": {},
   "outputs": [],
   "source": [
    "MODEL_DIR = \"IR\"\n",
    "MODEL_NAME = \"its_train_ffa_3_9\"\n",
    "\n",
    "os.makedirs(MODEL_DIR, exist_ok=True)\n",
    "\n",
    "# Create filenames of the models that will be converted in this notebook.\n",
    "model_path = Path(f\"{MODEL_DIR}/{MODEL_NAME}\")\n",
    "ir_path = model_path.with_suffix(\".xml\")\n",
    "onnx_path = model_path.with_suffix(\".onnx\")"
   ]
  },
  {
   "cell_type": "code",
   "execution_count": null,
   "metadata": {},
   "outputs": [],
   "source": [
    "def resize_to_max_width(image, max_width):\n",
    "    \"\"\"\n",
    "    Resize `image` to `max_width`, preserving the aspect ratio of the image.\n",
    "    \"\"\"\n",
    "    if image.shape[1] > max_width:\n",
    "        hw_ratio = image.shape[0] / image.shape[1]\n",
    "        new_height = int(max_width * hw_ratio)\n",
    "        image = cv2.resize(image, (max_width, new_height))\n",
    "    return image"
   ]
  },
  {
   "cell_type": "code",
   "execution_count": null,
   "metadata": {},
   "outputs": [],
   "source": [
    "# Load and prepare the IR model.\n",
    "ie = IECore()\n",
    "net = ie.read_network(ir_path)\n",
    "exec_net = ie.load_network(net, \"CPU\")\n",
    "input_key = next(iter(net.input_info.keys()))\n",
    "output_key = next(iter(net.outputs.keys()))"
   ]
  },
  {
   "cell_type": "code",
   "execution_count": null,
   "metadata": {},
   "outputs": [],
   "source": [
    "target_width = 224\n",
    "target_height = 224\n",
    "OUTPUT_DIR = \"test\""
   ]
  },
  {
   "cell_type": "code",
   "execution_count": null,
   "metadata": {},
   "outputs": [],
   "source": [
    "# Step 1. Load an image and convert to RGB\n",
    "image_path = Path(\"data/RESIDE/val/1.jpg\")\n",
    "image = cv2.cvtColor(cv2.imread(str(image_path), flags=cv2.IMREAD_COLOR), cv2.COLOR_BGR2RGB)\n",
    "\n",
    "# Step 2. Transform the image (only resize and transpose are still required)\n",
    "resized_image = cv2.resize(image, (target_width, target_height))\n",
    "input_image = resized_image.transpose(2, 0, 1)[None, :, :, :]\n",
    "\n",
    "# Step 3. Do inference.\n",
    "result_ir = exec_net.infer({input_key: input_image})\n",
    "\n",
    "# Step 4. Save the result image\n",
    "anime_fn_ir = Path(f\"{OUTPUT_DIR}/{image_path.stem}_anime_ir\").with_suffix(\".jpg\")\n",
    "if cv2.imwrite(str(anime_fn_ir), result_ir[:, :, (2, 1, 0)]):\n",
    "    print(f\"The anime image was saved to {anime_fn_ir}\")"
   ]
  }
 ],
 "metadata": {
  "interpreter": {
   "hash": "cef9e06bb236b2a8629b07e87a04b187b952a0f661eff5533360a155783f0c33"
  },
  "kernelspec": {
   "display_name": "Python 3.8.3 64-bit ('base': conda)",
   "name": "python3"
  },
  "language_info": {
   "codemirror_mode": {
    "name": "ipython",
    "version": 3
   },
   "file_extension": ".py",
   "mimetype": "text/x-python",
   "name": "python",
   "nbconvert_exporter": "python",
   "pygments_lexer": "ipython3",
   "version": "3.8.3"
  },
  "orig_nbformat": 4
 },
 "nbformat": 4,
 "nbformat_minor": 2
}
